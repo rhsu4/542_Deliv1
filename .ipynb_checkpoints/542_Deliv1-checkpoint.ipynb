{
 "cells": [
  {
   "cell_type": "markdown",
   "id": "6833026c",
   "metadata": {},
   "source": [
    "Deliverable 1 (due 1/26/22)\n",
    "Rebecca Hsu\n",
    "\n",
    "Gathering, Cleaning, and Integrating Data Tables"
   ]
  },
  {
   "cell_type": "markdown",
   "id": "30d593f6",
   "metadata": {},
   "source": [
    "Gathering the Data: \n",
    "    1) Gini Index by Country\n",
    "    2) Total Health Expenditure Per Capita by Country in 2018 PPP international USD, inflation adjusted to 2018\n",
    "    3) World Bank - Life Expectancy at Birth"
   ]
  },
  {
   "cell_type": "code",
   "execution_count": 18,
   "id": "81f6646d",
   "metadata": {},
   "outputs": [],
   "source": [
    "# importing pandas\n",
    "import pandas as pd\n",
    "\n",
    "#link for the online tables\n",
    "giniLink=\"https://en.wikipedia.org/wiki/List_of_countries_by_income_equality\"\n",
    "healthexpLink=\"https://en.wikipedia.org/wiki/List_of_countries_by_total_health_expenditure_per_capita\"\n",
    "\n",
    "# fetching the tables\n",
    "giniData=pd.read_html(giniLink,header=0,flavor=\"bs4\",attrs={'class':\"wikitable\"})\n",
    "healthexpData=pd.read_html(healthexpLink,header=0,flavor=\"bs4\",attrs={'class':\"wikitable\"})"
   ]
  },
  {
   "cell_type": "code",
   "execution_count": 19,
   "id": "534ea831",
   "metadata": {},
   "outputs": [],
   "source": [
    "# link to the data in CSV format\n",
    "lifeexpLink='https://github.com/rhsu4/542_Deliv1/raw/main/LifeExpAtBirth_WB.csv'\n",
    "\n",
    "# using 'read_csv' with a link\n",
    "lifeexpData=pd.read_csv(lifeexpLink)"
   ]
  },
  {
   "cell_type": "code",
   "execution_count": 50,
   "id": "e3fb525d",
   "metadata": {
    "scrolled": true
   },
   "outputs": [],
   "source": [
    "#from IPython.display import IFrame  \n",
    "\n",
    "#IFrame(giniLink, width=700, height=300)"
   ]
  },
  {
   "cell_type": "code",
   "execution_count": 5,
   "id": "94932357",
   "metadata": {},
   "outputs": [
    {
     "name": "stdout",
     "output_type": "stream",
     "text": [
      "Requirement already satisfied: html5lib in /Users/Becca/opt/anaconda3/lib/python3.9/site-packages (1.1)\n",
      "Requirement already satisfied: six>=1.9 in /Users/Becca/opt/anaconda3/lib/python3.9/site-packages (from html5lib) (1.16.0)\n",
      "Requirement already satisfied: webencodings in /Users/Becca/opt/anaconda3/lib/python3.9/site-packages (from html5lib) (0.5.1)\n",
      "Requirement already satisfied: beautifulsoup4 in /Users/Becca/opt/anaconda3/lib/python3.9/site-packages (4.10.0)\n",
      "Requirement already satisfied: soupsieve>1.2 in /Users/Becca/opt/anaconda3/lib/python3.9/site-packages (from beautifulsoup4) (2.2.1)\n",
      "Requirement already satisfied: lxml in /Users/Becca/opt/anaconda3/lib/python3.9/site-packages (4.6.3)\n"
     ]
    }
   ],
   "source": [
    "!pip install html5lib\n",
    "!pip install beautifulsoup4\n",
    "!pip install lxml"
   ]
  },
  {
   "cell_type": "markdown",
   "id": "61d14904",
   "metadata": {},
   "source": [
    "### Cleaning Gini Data"
   ]
  },
  {
   "cell_type": "code",
   "execution_count": 22,
   "id": "7b009733",
   "metadata": {},
   "outputs": [
    {
     "data": {
      "text/plain": [
       "list"
      ]
     },
     "execution_count": 22,
     "metadata": {},
     "output_type": "execute_result"
    }
   ],
   "source": [
    "#type(healthexpData)\n",
    "type(giniData)"
   ]
  },
  {
   "cell_type": "code",
   "execution_count": 24,
   "id": "3fa27059",
   "metadata": {},
   "outputs": [
    {
     "data": {
      "text/plain": [
       "4"
      ]
     },
     "execution_count": 24,
     "metadata": {},
     "output_type": "execute_result"
    }
   ],
   "source": [
    "#len(healthexpData)\n",
    "len(giniData)"
   ]
  },
  {
   "cell_type": "code",
   "execution_count": 25,
   "id": "1cec34e7",
   "metadata": {},
   "outputs": [
    {
     "data": {
      "text/html": [
       "<div>\n",
       "<style scoped>\n",
       "    .dataframe tbody tr th:only-of-type {\n",
       "        vertical-align: middle;\n",
       "    }\n",
       "\n",
       "    .dataframe tbody tr th {\n",
       "        vertical-align: top;\n",
       "    }\n",
       "\n",
       "    .dataframe thead th {\n",
       "        text-align: right;\n",
       "    }\n",
       "</style>\n",
       "<table border=\"1\" class=\"dataframe\">\n",
       "  <thead>\n",
       "    <tr style=\"text-align: right;\">\n",
       "      <th></th>\n",
       "      <th>Country</th>\n",
       "      <th>Subregion</th>\n",
       "      <th>Region</th>\n",
       "      <th>UN R/P</th>\n",
       "      <th>UN R/P.1</th>\n",
       "      <th>WB Gini[4]</th>\n",
       "      <th>WB Gini[4].1</th>\n",
       "      <th>CIA R/P[5]</th>\n",
       "      <th>CIA R/P[5].1</th>\n",
       "      <th>CIA Gini[6]</th>\n",
       "      <th>CIA Gini[6].1</th>\n",
       "    </tr>\n",
       "  </thead>\n",
       "  <tbody>\n",
       "    <tr>\n",
       "      <th>0</th>\n",
       "      <td>Country</td>\n",
       "      <td>Subregion</td>\n",
       "      <td>Region</td>\n",
       "      <td>10%[5]</td>\n",
       "      <td>20%[7]</td>\n",
       "      <td>%</td>\n",
       "      <td>Year</td>\n",
       "      <td>10%</td>\n",
       "      <td>Year</td>\n",
       "      <td>%</td>\n",
       "      <td>Year</td>\n",
       "    </tr>\n",
       "    <tr>\n",
       "      <th>1</th>\n",
       "      <td>NaN</td>\n",
       "      <td>NaN</td>\n",
       "      <td>NaN</td>\n",
       "      <td>NaN</td>\n",
       "      <td>NaN</td>\n",
       "      <td>NaN</td>\n",
       "      <td>NaN</td>\n",
       "      <td>NaN</td>\n",
       "      <td>NaN</td>\n",
       "      <td>NaN</td>\n",
       "      <td>NaN</td>\n",
       "    </tr>\n",
       "    <tr>\n",
       "      <th>2</th>\n",
       "      <td>Afghanistan</td>\n",
       "      <td>Southern Asia</td>\n",
       "      <td>Asia</td>\n",
       "      <td>NaN</td>\n",
       "      <td>NaN</td>\n",
       "      <td>NaN</td>\n",
       "      <td>NaN</td>\n",
       "      <td>NaN</td>\n",
       "      <td>NaN</td>\n",
       "      <td>NaN</td>\n",
       "      <td>NaN</td>\n",
       "    </tr>\n",
       "    <tr>\n",
       "      <th>3</th>\n",
       "      <td>Albania</td>\n",
       "      <td>Southern Europe</td>\n",
       "      <td>Europe</td>\n",
       "      <td>7.2</td>\n",
       "      <td>4.2</td>\n",
       "      <td>33.2</td>\n",
       "      <td>2017</td>\n",
       "      <td>7.2</td>\n",
       "      <td>2004</td>\n",
       "      <td>26.9</td>\n",
       "      <td>2012 est.</td>\n",
       "    </tr>\n",
       "    <tr>\n",
       "      <th>4</th>\n",
       "      <td>Algeria</td>\n",
       "      <td>Northern Africa</td>\n",
       "      <td>Africa</td>\n",
       "      <td>9.6</td>\n",
       "      <td>4.0</td>\n",
       "      <td>27.6</td>\n",
       "      <td>2011</td>\n",
       "      <td>9.6</td>\n",
       "      <td>1995</td>\n",
       "      <td>35.3</td>\n",
       "      <td>1995</td>\n",
       "    </tr>\n",
       "    <tr>\n",
       "      <th>...</th>\n",
       "      <td>...</td>\n",
       "      <td>...</td>\n",
       "      <td>...</td>\n",
       "      <td>...</td>\n",
       "      <td>...</td>\n",
       "      <td>...</td>\n",
       "      <td>...</td>\n",
       "      <td>...</td>\n",
       "      <td>...</td>\n",
       "      <td>...</td>\n",
       "      <td>...</td>\n",
       "    </tr>\n",
       "    <tr>\n",
       "      <th>175</th>\n",
       "      <td>Palestine</td>\n",
       "      <td>Western Asia</td>\n",
       "      <td>Asia</td>\n",
       "      <td>NaN</td>\n",
       "      <td>5.6</td>\n",
       "      <td>33.7</td>\n",
       "      <td>2016</td>\n",
       "      <td>NaN</td>\n",
       "      <td>NaN</td>\n",
       "      <td>NaN</td>\n",
       "      <td>NaN</td>\n",
       "    </tr>\n",
       "    <tr>\n",
       "      <th>176</th>\n",
       "      <td>Yemen</td>\n",
       "      <td>Western Asia</td>\n",
       "      <td>Asia</td>\n",
       "      <td>8.6</td>\n",
       "      <td>6.1</td>\n",
       "      <td>36.7</td>\n",
       "      <td>2014</td>\n",
       "      <td>8.6</td>\n",
       "      <td>2003</td>\n",
       "      <td>37.7</td>\n",
       "      <td>2005</td>\n",
       "    </tr>\n",
       "    <tr>\n",
       "      <th>177</th>\n",
       "      <td>Zambia</td>\n",
       "      <td>Eastern Africa</td>\n",
       "      <td>Africa</td>\n",
       "      <td>NaN</td>\n",
       "      <td>21.1</td>\n",
       "      <td>57.1</td>\n",
       "      <td>2015</td>\n",
       "      <td>NaN</td>\n",
       "      <td>NaN</td>\n",
       "      <td>57.5</td>\n",
       "      <td>2010</td>\n",
       "    </tr>\n",
       "    <tr>\n",
       "      <th>178</th>\n",
       "      <td>Zimbabwe</td>\n",
       "      <td>Eastern Africa</td>\n",
       "      <td>Africa</td>\n",
       "      <td>NaN</td>\n",
       "      <td>8.6</td>\n",
       "      <td>44.3</td>\n",
       "      <td>2017</td>\n",
       "      <td>NaN</td>\n",
       "      <td>NaN</td>\n",
       "      <td>50.1</td>\n",
       "      <td>2006</td>\n",
       "    </tr>\n",
       "    <tr>\n",
       "      <th>179</th>\n",
       "      <td>World</td>\n",
       "      <td>NaN</td>\n",
       "      <td>NaN</td>\n",
       "      <td>NaN</td>\n",
       "      <td>NaN</td>\n",
       "      <td>12.0[citation needed]</td>\n",
       "      <td>2002 est.</td>\n",
       "      <td>38.0</td>\n",
       "      <td>2007</td>\n",
       "      <td>NaN</td>\n",
       "      <td>NaN</td>\n",
       "    </tr>\n",
       "  </tbody>\n",
       "</table>\n",
       "<p>180 rows × 11 columns</p>\n",
       "</div>"
      ],
      "text/plain": [
       "         Country        Subregion  Region  UN R/P UN R/P.1  \\\n",
       "0        Country        Subregion  Region  10%[5]   20%[7]   \n",
       "1            NaN              NaN     NaN     NaN      NaN   \n",
       "2    Afghanistan    Southern Asia    Asia     NaN      NaN   \n",
       "3        Albania  Southern Europe  Europe     7.2      4.2   \n",
       "4        Algeria  Northern Africa  Africa     9.6      4.0   \n",
       "..           ...              ...     ...     ...      ...   \n",
       "175    Palestine     Western Asia    Asia     NaN      5.6   \n",
       "176        Yemen     Western Asia    Asia     8.6      6.1   \n",
       "177       Zambia   Eastern Africa  Africa     NaN     21.1   \n",
       "178     Zimbabwe   Eastern Africa  Africa     NaN      8.6   \n",
       "179        World              NaN     NaN     NaN      NaN   \n",
       "\n",
       "                WB Gini[4] WB Gini[4].1 CIA R/P[5] CIA R/P[5].1 CIA Gini[6]  \\\n",
       "0                        %         Year        10%         Year           %   \n",
       "1                      NaN          NaN        NaN          NaN         NaN   \n",
       "2                      NaN          NaN        NaN          NaN         NaN   \n",
       "3                     33.2         2017        7.2         2004        26.9   \n",
       "4                     27.6         2011        9.6         1995        35.3   \n",
       "..                     ...          ...        ...          ...         ...   \n",
       "175                   33.7         2016        NaN          NaN         NaN   \n",
       "176                   36.7         2014        8.6         2003        37.7   \n",
       "177                   57.1         2015        NaN          NaN        57.5   \n",
       "178                   44.3         2017        NaN          NaN        50.1   \n",
       "179  12.0[citation needed]    2002 est.       38.0         2007         NaN   \n",
       "\n",
       "    CIA Gini[6].1  \n",
       "0            Year  \n",
       "1             NaN  \n",
       "2             NaN  \n",
       "3       2012 est.  \n",
       "4            1995  \n",
       "..            ...  \n",
       "175           NaN  \n",
       "176          2005  \n",
       "177          2010  \n",
       "178          2006  \n",
       "179           NaN  \n",
       "\n",
       "[180 rows x 11 columns]"
      ]
     },
     "execution_count": 25,
     "metadata": {},
     "output_type": "execute_result"
    }
   ],
   "source": [
    "#For gini index, we're using the first table\n",
    "giniData[0]"
   ]
  },
  {
   "cell_type": "markdown",
   "id": "5f96ce1e",
   "metadata": {},
   "source": [
    "#Cleaning Notes for giniData\n",
    "- values are not categorical\n",
    "- variable names - need to drop all but country, WB GINI[4] and WB GINI[4].1; rename the WB gini variables to WBGiniPercent and WBGiniYear\n",
    "- need to drop first row (and NaN rows)"
   ]
  },
  {
   "cell_type": "code",
   "execution_count": 27,
   "id": "23af1220",
   "metadata": {},
   "outputs": [],
   "source": [
    "origginiDF=giniData[0]"
   ]
  },
  {
   "cell_type": "code",
   "execution_count": 28,
   "id": "36c95725",
   "metadata": {},
   "outputs": [],
   "source": [
    "giniDF=origginiDF.copy()"
   ]
  },
  {
   "cell_type": "code",
   "execution_count": 29,
   "id": "93d4d582",
   "metadata": {},
   "outputs": [
    {
     "data": {
      "text/plain": [
       "Index(['Country', 'Subregion', 'Region', 'UN R/P', 'UN R/P.1', 'WB Gini[4]',\n",
       "       'WB Gini[4].1', 'CIA R/P[5]', 'CIA R/P[5].1', 'CIA Gini[6]',\n",
       "       'CIA Gini[6].1'],\n",
       "      dtype='object')"
      ]
     },
     "execution_count": 29,
     "metadata": {},
     "output_type": "execute_result"
    }
   ],
   "source": [
    "giniDF.columns"
   ]
  },
  {
   "cell_type": "code",
   "execution_count": 33,
   "id": "825acb9d",
   "metadata": {},
   "outputs": [],
   "source": [
    "#column positions to drop\n",
    "whichToDrop=[1,2,3,4,7,8,9,10]\n",
    "\n",
    "#dropping and updating the data frame\n",
    "giniDF.drop(labels=giniDF.columns[whichToDrop],axis=1,inplace=True)"
   ]
  },
  {
   "cell_type": "code",
   "execution_count": 34,
   "id": "c2bb8c05",
   "metadata": {},
   "outputs": [
    {
     "data": {
      "text/plain": [
       "Index(['Country', 'WB Gini[4]', 'WB Gini[4].1'], dtype='object')"
      ]
     },
     "execution_count": 34,
     "metadata": {},
     "output_type": "execute_result"
    }
   ],
   "source": [
    "giniDF.columns"
   ]
  },
  {
   "cell_type": "code",
   "execution_count": 59,
   "id": "1a51e840",
   "metadata": {},
   "outputs": [
    {
     "data": {
      "text/plain": [
       "Index(['Country', 'GiniPercent', 'Year'], dtype='object')"
      ]
     },
     "execution_count": 59,
     "metadata": {},
     "output_type": "execute_result"
    }
   ],
   "source": [
    "giniDF.columns=['Country', 'GiniPercent', 'Year']\n",
    "giniDF.columns"
   ]
  },
  {
   "cell_type": "code",
   "execution_count": 38,
   "id": "d3d66c1b",
   "metadata": {},
   "outputs": [
    {
     "data": {
      "text/plain": [
       "'Azerbaijan'"
      ]
     },
     "execution_count": 38,
     "metadata": {},
     "output_type": "execute_result"
    }
   ],
   "source": [
    "giniDF.Country[10]"
   ]
  },
  {
   "cell_type": "code",
   "execution_count": 40,
   "id": "e78d464f",
   "metadata": {},
   "outputs": [],
   "source": [
    "#Removing Spaces\n",
    "byeSpaces= lambda COLUMN:COLUMN.str.strip()\n",
    "giniDF=giniDF.apply(byeSpaces)"
   ]
  },
  {
   "cell_type": "code",
   "execution_count": 60,
   "id": "ba2dc86c",
   "metadata": {},
   "outputs": [
    {
     "data": {
      "text/plain": [
       "[32.8    3\n",
       " 35.3    3\n",
       " 33.7    3\n",
       " 39.0    3\n",
       " 40.8    3\n",
       "        ..\n",
       " 50.7    1\n",
       " 48.3    1\n",
       " 43.5    1\n",
       " 31.9    1\n",
       " 44.3    1\n",
       " Name: GiniPercent, Length: 122, dtype: int64,\n",
       " 2017    43\n",
       " 2018    28\n",
       " 2016    18\n",
       " 2015    16\n",
       " 2014    13\n",
       " 2013     7\n",
       " 2011     7\n",
       " 2012     7\n",
       " 2009     4\n",
       " 1999     3\n",
       " 2010     3\n",
       " 2004     2\n",
       " 2003     1\n",
       " 1992     1\n",
       " 2020     1\n",
       " 2008     1\n",
       " 1998     1\n",
       " 2007     1\n",
       " 2005     1\n",
       " 2006     1\n",
       " Name: Year, dtype: int64]"
      ]
     },
     "execution_count": 60,
     "metadata": {},
     "output_type": "execute_result"
    }
   ],
   "source": [
    "#Value counts not a problem for gini\n",
    "[giniDF[COLUMN].value_counts() for COLUMN in giniDF.iloc[:,1::]]"
   ]
  },
  {
   "cell_type": "code",
   "execution_count": 42,
   "id": "a31af8ea",
   "metadata": {},
   "outputs": [
    {
     "data": {
      "text/plain": [
       "Country        object\n",
       "GiniPercent    object\n",
       "GiniYear       object\n",
       "dtype: object"
      ]
     },
     "execution_count": 42,
     "metadata": {},
     "output_type": "execute_result"
    }
   ],
   "source": [
    "giniDF.dtypes"
   ]
  },
  {
   "cell_type": "code",
   "execution_count": 44,
   "id": "6025b418",
   "metadata": {},
   "outputs": [],
   "source": [
    "giniDF.drop(labels=[0,1,179],\n",
    "           axis = 0,\n",
    "           inplace=True) #dropping header rows with no data and \"World\" row"
   ]
  },
  {
   "cell_type": "code",
   "execution_count": 61,
   "id": "43359e1f",
   "metadata": {},
   "outputs": [
    {
     "data": {
      "text/html": [
       "<div>\n",
       "<style scoped>\n",
       "    .dataframe tbody tr th:only-of-type {\n",
       "        vertical-align: middle;\n",
       "    }\n",
       "\n",
       "    .dataframe tbody tr th {\n",
       "        vertical-align: top;\n",
       "    }\n",
       "\n",
       "    .dataframe thead th {\n",
       "        text-align: right;\n",
       "    }\n",
       "</style>\n",
       "<table border=\"1\" class=\"dataframe\">\n",
       "  <thead>\n",
       "    <tr style=\"text-align: right;\">\n",
       "      <th></th>\n",
       "      <th>Country</th>\n",
       "      <th>GiniPercent</th>\n",
       "      <th>Year</th>\n",
       "    </tr>\n",
       "  </thead>\n",
       "  <tbody>\n",
       "    <tr>\n",
       "      <th>0</th>\n",
       "      <td>Afghanistan</td>\n",
       "      <td>NaN</td>\n",
       "      <td>NaN</td>\n",
       "    </tr>\n",
       "    <tr>\n",
       "      <th>1</th>\n",
       "      <td>Albania</td>\n",
       "      <td>33.2</td>\n",
       "      <td>2017</td>\n",
       "    </tr>\n",
       "    <tr>\n",
       "      <th>2</th>\n",
       "      <td>Algeria</td>\n",
       "      <td>27.6</td>\n",
       "      <td>2011</td>\n",
       "    </tr>\n",
       "    <tr>\n",
       "      <th>3</th>\n",
       "      <td>Angola</td>\n",
       "      <td>51.3</td>\n",
       "      <td>2018</td>\n",
       "    </tr>\n",
       "    <tr>\n",
       "      <th>4</th>\n",
       "      <td>Argentina</td>\n",
       "      <td>41.4</td>\n",
       "      <td>2018</td>\n",
       "    </tr>\n",
       "    <tr>\n",
       "      <th>...</th>\n",
       "      <td>...</td>\n",
       "      <td>...</td>\n",
       "      <td>...</td>\n",
       "    </tr>\n",
       "    <tr>\n",
       "      <th>172</th>\n",
       "      <td>Vietnam</td>\n",
       "      <td>35.7</td>\n",
       "      <td>2018</td>\n",
       "    </tr>\n",
       "    <tr>\n",
       "      <th>173</th>\n",
       "      <td>Palestine</td>\n",
       "      <td>33.7</td>\n",
       "      <td>2016</td>\n",
       "    </tr>\n",
       "    <tr>\n",
       "      <th>174</th>\n",
       "      <td>Yemen</td>\n",
       "      <td>36.7</td>\n",
       "      <td>2014</td>\n",
       "    </tr>\n",
       "    <tr>\n",
       "      <th>175</th>\n",
       "      <td>Zambia</td>\n",
       "      <td>57.1</td>\n",
       "      <td>2015</td>\n",
       "    </tr>\n",
       "    <tr>\n",
       "      <th>176</th>\n",
       "      <td>Zimbabwe</td>\n",
       "      <td>44.3</td>\n",
       "      <td>2017</td>\n",
       "    </tr>\n",
       "  </tbody>\n",
       "</table>\n",
       "<p>177 rows × 3 columns</p>\n",
       "</div>"
      ],
      "text/plain": [
       "         Country GiniPercent  Year\n",
       "0    Afghanistan         NaN   NaN\n",
       "1        Albania        33.2  2017\n",
       "2        Algeria        27.6  2011\n",
       "3         Angola        51.3  2018\n",
       "4      Argentina        41.4  2018\n",
       "..           ...         ...   ...\n",
       "172      Vietnam        35.7  2018\n",
       "173    Palestine        33.7  2016\n",
       "174        Yemen        36.7  2014\n",
       "175       Zambia        57.1  2015\n",
       "176     Zimbabwe        44.3  2017\n",
       "\n",
       "[177 rows x 3 columns]"
      ]
     },
     "execution_count": 61,
     "metadata": {},
     "output_type": "execute_result"
    }
   ],
   "source": [
    "giniDF"
   ]
  },
  {
   "cell_type": "code",
   "execution_count": 46,
   "id": "885a3631",
   "metadata": {},
   "outputs": [],
   "source": [
    "giniDF.reset_index(drop=True,inplace=True)"
   ]
  },
  {
   "cell_type": "code",
   "execution_count": 48,
   "id": "324ecbec",
   "metadata": {},
   "outputs": [],
   "source": [
    "giniDF.to_csv(\"giniDF.csv\",index=False)"
   ]
  },
  {
   "cell_type": "markdown",
   "id": "d47b1880",
   "metadata": {},
   "source": [
    "### Cleaning health expenditure data"
   ]
  },
  {
   "cell_type": "code",
   "execution_count": 72,
   "id": "1cbe11d9",
   "metadata": {},
   "outputs": [
    {
     "data": {
      "text/html": [
       "<div>\n",
       "<style scoped>\n",
       "    .dataframe tbody tr th:only-of-type {\n",
       "        vertical-align: middle;\n",
       "    }\n",
       "\n",
       "    .dataframe tbody tr th {\n",
       "        vertical-align: top;\n",
       "    }\n",
       "\n",
       "    .dataframe thead th {\n",
       "        text-align: right;\n",
       "    }\n",
       "</style>\n",
       "<table border=\"1\" class=\"dataframe\">\n",
       "  <thead>\n",
       "    <tr style=\"text-align: right;\">\n",
       "      <th></th>\n",
       "      <th>Country or subnational area</th>\n",
       "      <th>2002</th>\n",
       "      <th>2010</th>\n",
       "      <th>2018</th>\n",
       "    </tr>\n",
       "  </thead>\n",
       "  <tbody>\n",
       "    <tr>\n",
       "      <th>0</th>\n",
       "      <td>Afghanistan *</td>\n",
       "      <td>78.0</td>\n",
       "      <td>138.0</td>\n",
       "      <td>186.0</td>\n",
       "    </tr>\n",
       "    <tr>\n",
       "      <th>1</th>\n",
       "      <td>Albania *</td>\n",
       "      <td>314.0</td>\n",
       "      <td>452.0</td>\n",
       "      <td>697.0</td>\n",
       "    </tr>\n",
       "    <tr>\n",
       "      <th>2</th>\n",
       "      <td>Algeria *</td>\n",
       "      <td>335.0</td>\n",
       "      <td>648.0</td>\n",
       "      <td>963.0</td>\n",
       "    </tr>\n",
       "    <tr>\n",
       "      <th>3</th>\n",
       "      <td>Andorra *</td>\n",
       "      <td>2196.0</td>\n",
       "      <td>2771.0</td>\n",
       "      <td>3607.0</td>\n",
       "    </tr>\n",
       "    <tr>\n",
       "      <th>4</th>\n",
       "      <td>Angola *</td>\n",
       "      <td>119.0</td>\n",
       "      <td>168.0</td>\n",
       "      <td>165.0</td>\n",
       "    </tr>\n",
       "    <tr>\n",
       "      <th>...</th>\n",
       "      <td>...</td>\n",
       "      <td>...</td>\n",
       "      <td>...</td>\n",
       "      <td>...</td>\n",
       "    </tr>\n",
       "    <tr>\n",
       "      <th>187</th>\n",
       "      <td>Venezuela *</td>\n",
       "      <td>842.0</td>\n",
       "      <td>1130.0</td>\n",
       "      <td>384.0</td>\n",
       "    </tr>\n",
       "    <tr>\n",
       "      <th>188</th>\n",
       "      <td>Vietnam *</td>\n",
       "      <td>108.0</td>\n",
       "      <td>259.0</td>\n",
       "      <td>440.0</td>\n",
       "    </tr>\n",
       "    <tr>\n",
       "      <th>189</th>\n",
       "      <td>Yemen *</td>\n",
       "      <td>163.0</td>\n",
       "      <td>231.0</td>\n",
       "      <td>NaN</td>\n",
       "    </tr>\n",
       "    <tr>\n",
       "      <th>190</th>\n",
       "      <td>Zambia *</td>\n",
       "      <td>125.0</td>\n",
       "      <td>122.0</td>\n",
       "      <td>208.0</td>\n",
       "    </tr>\n",
       "    <tr>\n",
       "      <th>191</th>\n",
       "      <td>Zimbabwe *</td>\n",
       "      <td>NaN</td>\n",
       "      <td>198.0</td>\n",
       "      <td>198.0</td>\n",
       "    </tr>\n",
       "  </tbody>\n",
       "</table>\n",
       "<p>192 rows × 4 columns</p>\n",
       "</div>"
      ],
      "text/plain": [
       "    Country or subnational area    2002    2010    2018\n",
       "0                 Afghanistan *    78.0   138.0   186.0\n",
       "1                     Albania *   314.0   452.0   697.0\n",
       "2                     Algeria *   335.0   648.0   963.0\n",
       "3                     Andorra *  2196.0  2771.0  3607.0\n",
       "4                      Angola *   119.0   168.0   165.0\n",
       "..                          ...     ...     ...     ...\n",
       "187                 Venezuela *   842.0  1130.0   384.0\n",
       "188                   Vietnam *   108.0   259.0   440.0\n",
       "189                     Yemen *   163.0   231.0     NaN\n",
       "190                    Zambia *   125.0   122.0   208.0\n",
       "191                  Zimbabwe *     NaN   198.0   198.0\n",
       "\n",
       "[192 rows x 4 columns]"
      ]
     },
     "execution_count": 72,
     "metadata": {},
     "output_type": "execute_result"
    }
   ],
   "source": [
    "#For health expenditure, we're using the second table\n",
    "healthexpData[1]"
   ]
  },
  {
   "cell_type": "code",
   "execution_count": 73,
   "id": "d37ae043",
   "metadata": {},
   "outputs": [],
   "source": [
    "orighealthexp=healthexpData[1]"
   ]
  },
  {
   "cell_type": "code",
   "execution_count": 74,
   "id": "c219c73e",
   "metadata": {},
   "outputs": [],
   "source": [
    "healthexpDF=orighealthexp.copy()"
   ]
  },
  {
   "cell_type": "code",
   "execution_count": 75,
   "id": "00d31d21",
   "metadata": {},
   "outputs": [
    {
     "data": {
      "text/plain": [
       "Index(['Country or subnational area', '2002', '2010', '2018'], dtype='object')"
      ]
     },
     "execution_count": 75,
     "metadata": {},
     "output_type": "execute_result"
    }
   ],
   "source": [
    "healthexpDF.columns"
   ]
  },
  {
   "cell_type": "markdown",
   "id": "14c5f2c9",
   "metadata": {},
   "source": [
    "Overall cleaning note - we may want to change to long data instead of wide, so that the final dataset will be:\n",
    "\n",
    "Country, Year, Gini Percent, Health Expenditure in 2018 PPP, Life Expectancy"
   ]
  },
  {
   "cell_type": "code",
   "execution_count": 76,
   "id": "c35a2862",
   "metadata": {},
   "outputs": [
    {
     "data": {
      "text/plain": [
       "<bound method NDFrame.head of     Country or subnational area  Year  healthExp\n",
       "0                 Afghanistan *  2002       78.0\n",
       "1                     Albania *  2002      314.0\n",
       "2                     Algeria *  2002      335.0\n",
       "3                     Andorra *  2002     2196.0\n",
       "4                      Angola *  2002      119.0\n",
       "..                          ...   ...        ...\n",
       "571                 Venezuela *  2018      384.0\n",
       "572                   Vietnam *  2018      440.0\n",
       "573                     Yemen *  2018        NaN\n",
       "574                    Zambia *  2018      208.0\n",
       "575                  Zimbabwe *  2018      198.0\n",
       "\n",
       "[576 rows x 3 columns]>"
      ]
     },
     "execution_count": 76,
     "metadata": {},
     "output_type": "execute_result"
    }
   ],
   "source": [
    "healthexpDF = healthexpDF.melt(id_vars=[\"Country or subnational area\"], \n",
    "                              var_name=\"Year\", \n",
    "                              value_name=\"healthExp\")\n",
    "healthexpDF.head"
   ]
  },
  {
   "cell_type": "code",
   "execution_count": 77,
   "id": "43069aa2",
   "metadata": {
    "scrolled": true
   },
   "outputs": [],
   "source": [
    "healthexpDF.columns=['Country','Year','healthExpenditure']"
   ]
  },
  {
   "cell_type": "code",
   "execution_count": 79,
   "id": "b309f639",
   "metadata": {},
   "outputs": [
    {
     "data": {
      "text/html": [
       "<div>\n",
       "<style scoped>\n",
       "    .dataframe tbody tr th:only-of-type {\n",
       "        vertical-align: middle;\n",
       "    }\n",
       "\n",
       "    .dataframe tbody tr th {\n",
       "        vertical-align: top;\n",
       "    }\n",
       "\n",
       "    .dataframe thead th {\n",
       "        text-align: right;\n",
       "    }\n",
       "</style>\n",
       "<table border=\"1\" class=\"dataframe\">\n",
       "  <thead>\n",
       "    <tr style=\"text-align: right;\">\n",
       "      <th></th>\n",
       "      <th>Country</th>\n",
       "      <th>Year</th>\n",
       "      <th>healthExpenditure</th>\n",
       "    </tr>\n",
       "  </thead>\n",
       "  <tbody>\n",
       "    <tr>\n",
       "      <th>0</th>\n",
       "      <td>Afghanistan *</td>\n",
       "      <td>2002</td>\n",
       "      <td>78.0</td>\n",
       "    </tr>\n",
       "    <tr>\n",
       "      <th>1</th>\n",
       "      <td>Albania *</td>\n",
       "      <td>2002</td>\n",
       "      <td>314.0</td>\n",
       "    </tr>\n",
       "    <tr>\n",
       "      <th>2</th>\n",
       "      <td>Algeria *</td>\n",
       "      <td>2002</td>\n",
       "      <td>335.0</td>\n",
       "    </tr>\n",
       "    <tr>\n",
       "      <th>3</th>\n",
       "      <td>Andorra *</td>\n",
       "      <td>2002</td>\n",
       "      <td>2196.0</td>\n",
       "    </tr>\n",
       "    <tr>\n",
       "      <th>4</th>\n",
       "      <td>Angola *</td>\n",
       "      <td>2002</td>\n",
       "      <td>119.0</td>\n",
       "    </tr>\n",
       "    <tr>\n",
       "      <th>...</th>\n",
       "      <td>...</td>\n",
       "      <td>...</td>\n",
       "      <td>...</td>\n",
       "    </tr>\n",
       "    <tr>\n",
       "      <th>571</th>\n",
       "      <td>Venezuela *</td>\n",
       "      <td>2018</td>\n",
       "      <td>384.0</td>\n",
       "    </tr>\n",
       "    <tr>\n",
       "      <th>572</th>\n",
       "      <td>Vietnam *</td>\n",
       "      <td>2018</td>\n",
       "      <td>440.0</td>\n",
       "    </tr>\n",
       "    <tr>\n",
       "      <th>573</th>\n",
       "      <td>Yemen *</td>\n",
       "      <td>2018</td>\n",
       "      <td>NaN</td>\n",
       "    </tr>\n",
       "    <tr>\n",
       "      <th>574</th>\n",
       "      <td>Zambia *</td>\n",
       "      <td>2018</td>\n",
       "      <td>208.0</td>\n",
       "    </tr>\n",
       "    <tr>\n",
       "      <th>575</th>\n",
       "      <td>Zimbabwe *</td>\n",
       "      <td>2018</td>\n",
       "      <td>198.0</td>\n",
       "    </tr>\n",
       "  </tbody>\n",
       "</table>\n",
       "<p>576 rows × 3 columns</p>\n",
       "</div>"
      ],
      "text/plain": [
       "           Country  Year  healthExpenditure\n",
       "0    Afghanistan *  2002               78.0\n",
       "1        Albania *  2002              314.0\n",
       "2        Algeria *  2002              335.0\n",
       "3        Andorra *  2002             2196.0\n",
       "4         Angola *  2002              119.0\n",
       "..             ...   ...                ...\n",
       "571    Venezuela *  2018              384.0\n",
       "572      Vietnam *  2018              440.0\n",
       "573        Yemen *  2018                NaN\n",
       "574       Zambia *  2018              208.0\n",
       "575     Zimbabwe *  2018              198.0\n",
       "\n",
       "[576 rows x 3 columns]"
      ]
     },
     "execution_count": 79,
     "metadata": {},
     "output_type": "execute_result"
    }
   ],
   "source": [
    "giniDF.dtypes #FLAG - set type to not object?\n",
    "healthexpDF"
   ]
  },
  {
   "cell_type": "code",
   "execution_count": null,
   "id": "b892a78e",
   "metadata": {},
   "outputs": [],
   "source": [
    "#FLAG: Need to remove the * after country name, also any spaces"
   ]
  },
  {
   "cell_type": "code",
   "execution_count": 109,
   "id": "8d69856a",
   "metadata": {},
   "outputs": [
    {
     "data": {
      "text/html": [
       "<div>\n",
       "<style scoped>\n",
       "    .dataframe tbody tr th:only-of-type {\n",
       "        vertical-align: middle;\n",
       "    }\n",
       "\n",
       "    .dataframe tbody tr th {\n",
       "        vertical-align: top;\n",
       "    }\n",
       "\n",
       "    .dataframe thead th {\n",
       "        text-align: right;\n",
       "    }\n",
       "</style>\n",
       "<table border=\"1\" class=\"dataframe\">\n",
       "  <thead>\n",
       "    <tr style=\"text-align: right;\">\n",
       "      <th></th>\n",
       "      <th>Country</th>\n",
       "      <th>Year</th>\n",
       "      <th>healthExpenditure</th>\n",
       "    </tr>\n",
       "  </thead>\n",
       "  <tbody>\n",
       "    <tr>\n",
       "      <th>0</th>\n",
       "      <td>Afghanistan</td>\n",
       "      <td>2002</td>\n",
       "      <td>78.0</td>\n",
       "    </tr>\n",
       "    <tr>\n",
       "      <th>1</th>\n",
       "      <td>Albania</td>\n",
       "      <td>2002</td>\n",
       "      <td>314.0</td>\n",
       "    </tr>\n",
       "    <tr>\n",
       "      <th>2</th>\n",
       "      <td>Algeria</td>\n",
       "      <td>2002</td>\n",
       "      <td>335.0</td>\n",
       "    </tr>\n",
       "    <tr>\n",
       "      <th>3</th>\n",
       "      <td>Andorra</td>\n",
       "      <td>2002</td>\n",
       "      <td>2196.0</td>\n",
       "    </tr>\n",
       "    <tr>\n",
       "      <th>4</th>\n",
       "      <td>Angola</td>\n",
       "      <td>2002</td>\n",
       "      <td>119.0</td>\n",
       "    </tr>\n",
       "    <tr>\n",
       "      <th>...</th>\n",
       "      <td>...</td>\n",
       "      <td>...</td>\n",
       "      <td>...</td>\n",
       "    </tr>\n",
       "    <tr>\n",
       "      <th>571</th>\n",
       "      <td>Venezuela</td>\n",
       "      <td>2018</td>\n",
       "      <td>384.0</td>\n",
       "    </tr>\n",
       "    <tr>\n",
       "      <th>572</th>\n",
       "      <td>Vietnam</td>\n",
       "      <td>2018</td>\n",
       "      <td>440.0</td>\n",
       "    </tr>\n",
       "    <tr>\n",
       "      <th>573</th>\n",
       "      <td>Yemen</td>\n",
       "      <td>2018</td>\n",
       "      <td>NaN</td>\n",
       "    </tr>\n",
       "    <tr>\n",
       "      <th>574</th>\n",
       "      <td>Zambia</td>\n",
       "      <td>2018</td>\n",
       "      <td>208.0</td>\n",
       "    </tr>\n",
       "    <tr>\n",
       "      <th>575</th>\n",
       "      <td>Zimbabwe</td>\n",
       "      <td>2018</td>\n",
       "      <td>198.0</td>\n",
       "    </tr>\n",
       "  </tbody>\n",
       "</table>\n",
       "<p>576 rows × 3 columns</p>\n",
       "</div>"
      ],
      "text/plain": [
       "         Country  Year  healthExpenditure\n",
       "0    Afghanistan  2002               78.0\n",
       "1        Albania  2002              314.0\n",
       "2        Algeria  2002              335.0\n",
       "3        Andorra  2002             2196.0\n",
       "4         Angola  2002              119.0\n",
       "..           ...   ...                ...\n",
       "571    Venezuela  2018              384.0\n",
       "572      Vietnam  2018              440.0\n",
       "573        Yemen  2018                NaN\n",
       "574       Zambia  2018              208.0\n",
       "575     Zimbabwe  2018              198.0\n",
       "\n",
       "[576 rows x 3 columns]"
      ]
     },
     "execution_count": 109,
     "metadata": {},
     "output_type": "execute_result"
    }
   ],
   "source": [
    "healthexpDF['Country'] = healthexpDF['Country'].str.replace('*', '',regex=False)\n",
    "healthexpDF['Country']=healthexpDF.Country.str.strip()\n",
    "healthexpDF"
   ]
  },
  {
   "cell_type": "markdown",
   "id": "11fc631e",
   "metadata": {},
   "source": [
    "## Cleaning Life Expectancy Data"
   ]
  },
  {
   "cell_type": "code",
   "execution_count": 82,
   "id": "4a55c442",
   "metadata": {},
   "outputs": [
    {
     "data": {
      "text/html": [
       "<div>\n",
       "<style scoped>\n",
       "    .dataframe tbody tr th:only-of-type {\n",
       "        vertical-align: middle;\n",
       "    }\n",
       "\n",
       "    .dataframe tbody tr th {\n",
       "        vertical-align: top;\n",
       "    }\n",
       "\n",
       "    .dataframe thead th {\n",
       "        text-align: right;\n",
       "    }\n",
       "</style>\n",
       "<table border=\"1\" class=\"dataframe\">\n",
       "  <thead>\n",
       "    <tr style=\"text-align: right;\">\n",
       "      <th></th>\n",
       "      <th>Series Name</th>\n",
       "      <th>Series Code</th>\n",
       "      <th>Country Name</th>\n",
       "      <th>Country Code</th>\n",
       "      <th>2002 [YR2002]</th>\n",
       "      <th>2010 [YR2010]</th>\n",
       "      <th>2018 [YR2018]</th>\n",
       "    </tr>\n",
       "  </thead>\n",
       "  <tbody>\n",
       "    <tr>\n",
       "      <th>0</th>\n",
       "      <td>Life expectancy at birth, total (years)</td>\n",
       "      <td>SP.DYN.LE00.IN</td>\n",
       "      <td>Afghanistan</td>\n",
       "      <td>AFG</td>\n",
       "      <td>56.784</td>\n",
       "      <td>61.028</td>\n",
       "      <td>64.486</td>\n",
       "    </tr>\n",
       "    <tr>\n",
       "      <th>1</th>\n",
       "      <td>Life expectancy at birth, total (years)</td>\n",
       "      <td>SP.DYN.LE00.IN</td>\n",
       "      <td>Albania</td>\n",
       "      <td>ALB</td>\n",
       "      <td>74.579</td>\n",
       "      <td>76.562</td>\n",
       "      <td>78.458</td>\n",
       "    </tr>\n",
       "    <tr>\n",
       "      <th>2</th>\n",
       "      <td>Life expectancy at birth, total (years)</td>\n",
       "      <td>SP.DYN.LE00.IN</td>\n",
       "      <td>Algeria</td>\n",
       "      <td>DZA</td>\n",
       "      <td>71.605</td>\n",
       "      <td>74.938</td>\n",
       "      <td>76.693</td>\n",
       "    </tr>\n",
       "    <tr>\n",
       "      <th>3</th>\n",
       "      <td>Life expectancy at birth, total (years)</td>\n",
       "      <td>SP.DYN.LE00.IN</td>\n",
       "      <td>American Samoa</td>\n",
       "      <td>ASM</td>\n",
       "      <td>..</td>\n",
       "      <td>..</td>\n",
       "      <td>..</td>\n",
       "    </tr>\n",
       "    <tr>\n",
       "      <th>4</th>\n",
       "      <td>Life expectancy at birth, total (years)</td>\n",
       "      <td>SP.DYN.LE00.IN</td>\n",
       "      <td>Andorra</td>\n",
       "      <td>AND</td>\n",
       "      <td>..</td>\n",
       "      <td>..</td>\n",
       "      <td>..</td>\n",
       "    </tr>\n",
       "    <tr>\n",
       "      <th>...</th>\n",
       "      <td>...</td>\n",
       "      <td>...</td>\n",
       "      <td>...</td>\n",
       "      <td>...</td>\n",
       "      <td>...</td>\n",
       "      <td>...</td>\n",
       "      <td>...</td>\n",
       "    </tr>\n",
       "    <tr>\n",
       "      <th>217</th>\n",
       "      <td>NaN</td>\n",
       "      <td>NaN</td>\n",
       "      <td>NaN</td>\n",
       "      <td>NaN</td>\n",
       "      <td>NaN</td>\n",
       "      <td>NaN</td>\n",
       "      <td>NaN</td>\n",
       "    </tr>\n",
       "    <tr>\n",
       "      <th>218</th>\n",
       "      <td>NaN</td>\n",
       "      <td>NaN</td>\n",
       "      <td>NaN</td>\n",
       "      <td>NaN</td>\n",
       "      <td>NaN</td>\n",
       "      <td>NaN</td>\n",
       "      <td>NaN</td>\n",
       "    </tr>\n",
       "    <tr>\n",
       "      <th>219</th>\n",
       "      <td>NaN</td>\n",
       "      <td>NaN</td>\n",
       "      <td>NaN</td>\n",
       "      <td>NaN</td>\n",
       "      <td>NaN</td>\n",
       "      <td>NaN</td>\n",
       "      <td>NaN</td>\n",
       "    </tr>\n",
       "    <tr>\n",
       "      <th>220</th>\n",
       "      <td>Data from database: Health Nutrition and Popul...</td>\n",
       "      <td>NaN</td>\n",
       "      <td>NaN</td>\n",
       "      <td>NaN</td>\n",
       "      <td>NaN</td>\n",
       "      <td>NaN</td>\n",
       "      <td>NaN</td>\n",
       "    </tr>\n",
       "    <tr>\n",
       "      <th>221</th>\n",
       "      <td>Last Updated: 12/17/2021</td>\n",
       "      <td>NaN</td>\n",
       "      <td>NaN</td>\n",
       "      <td>NaN</td>\n",
       "      <td>NaN</td>\n",
       "      <td>NaN</td>\n",
       "      <td>NaN</td>\n",
       "    </tr>\n",
       "  </tbody>\n",
       "</table>\n",
       "<p>222 rows × 7 columns</p>\n",
       "</div>"
      ],
      "text/plain": [
       "                                           Series Name     Series Code  \\\n",
       "0              Life expectancy at birth, total (years)  SP.DYN.LE00.IN   \n",
       "1              Life expectancy at birth, total (years)  SP.DYN.LE00.IN   \n",
       "2              Life expectancy at birth, total (years)  SP.DYN.LE00.IN   \n",
       "3              Life expectancy at birth, total (years)  SP.DYN.LE00.IN   \n",
       "4              Life expectancy at birth, total (years)  SP.DYN.LE00.IN   \n",
       "..                                                 ...             ...   \n",
       "217                                                NaN             NaN   \n",
       "218                                                NaN             NaN   \n",
       "219                                                NaN             NaN   \n",
       "220  Data from database: Health Nutrition and Popul...             NaN   \n",
       "221                           Last Updated: 12/17/2021             NaN   \n",
       "\n",
       "       Country Name Country Code 2002 [YR2002] 2010 [YR2010] 2018 [YR2018]  \n",
       "0       Afghanistan          AFG        56.784        61.028        64.486  \n",
       "1           Albania          ALB        74.579        76.562        78.458  \n",
       "2           Algeria          DZA        71.605        74.938        76.693  \n",
       "3    American Samoa          ASM            ..            ..            ..  \n",
       "4           Andorra          AND            ..            ..            ..  \n",
       "..              ...          ...           ...           ...           ...  \n",
       "217             NaN          NaN           NaN           NaN           NaN  \n",
       "218             NaN          NaN           NaN           NaN           NaN  \n",
       "219             NaN          NaN           NaN           NaN           NaN  \n",
       "220             NaN          NaN           NaN           NaN           NaN  \n",
       "221             NaN          NaN           NaN           NaN           NaN  \n",
       "\n",
       "[222 rows x 7 columns]"
      ]
     },
     "execution_count": 82,
     "metadata": {},
     "output_type": "execute_result"
    }
   ],
   "source": [
    "lifeexpData"
   ]
  },
  {
   "cell_type": "markdown",
   "id": "3caba277",
   "metadata": {},
   "source": [
    "Cleaning steps:\n",
    "- drop rows that are not part of life expectancy series\n",
    "- drop cols [0,1,3]\n",
    "- reshape wide, rename year column -> lifeExp\n",
    "- clean values, make sure country names don't include spaces"
   ]
  },
  {
   "cell_type": "code",
   "execution_count": 108,
   "id": "1000e28e",
   "metadata": {},
   "outputs": [],
   "source": []
  }
 ],
 "metadata": {
  "kernelspec": {
   "display_name": "Python 3 (ipykernel)",
   "language": "python",
   "name": "python3"
  },
  "language_info": {
   "codemirror_mode": {
    "name": "ipython",
    "version": 3
   },
   "file_extension": ".py",
   "mimetype": "text/x-python",
   "name": "python",
   "nbconvert_exporter": "python",
   "pygments_lexer": "ipython3",
   "version": "3.9.7"
  }
 },
 "nbformat": 4,
 "nbformat_minor": 5
}
